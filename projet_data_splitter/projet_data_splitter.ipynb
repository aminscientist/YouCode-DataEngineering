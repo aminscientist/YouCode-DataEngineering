{
 "cells": [
  {
   "cell_type": "code",
   "execution_count": 7,
   "id": "d1b989de-2bb7-4913-a8d5-c3912b65fb22",
   "metadata": {},
   "outputs": [],
   "source": [
    "#importation des bibliothèques nécessaires\n",
    "import pandas as pd\n",
    "import json\n",
    "import pyodbc"
   ]
  },
  {
   "cell_type": "code",
   "execution_count": 8,
   "id": "8bbeb54f-6c99-462b-a7db-4504a277d354",
   "metadata": {},
   "outputs": [
    {
     "data": {
      "text/html": [
       "<div>\n",
       "<style scoped>\n",
       "    .dataframe tbody tr th:only-of-type {\n",
       "        vertical-align: middle;\n",
       "    }\n",
       "\n",
       "    .dataframe tbody tr th {\n",
       "        vertical-align: top;\n",
       "    }\n",
       "\n",
       "    .dataframe thead th {\n",
       "        text-align: right;\n",
       "    }\n",
       "</style>\n",
       "<table border=\"1\" class=\"dataframe\">\n",
       "  <thead>\n",
       "    <tr style=\"text-align: right;\">\n",
       "      <th></th>\n",
       "      <th>age</th>\n",
       "      <th>sex</th>\n",
       "      <th>bmi</th>\n",
       "      <th>children</th>\n",
       "      <th>smoker</th>\n",
       "      <th>region</th>\n",
       "      <th>charges</th>\n",
       "    </tr>\n",
       "  </thead>\n",
       "  <tbody>\n",
       "    <tr>\n",
       "      <th>0</th>\n",
       "      <td>19</td>\n",
       "      <td>female</td>\n",
       "      <td>27.900</td>\n",
       "      <td>0</td>\n",
       "      <td>yes</td>\n",
       "      <td>southwest</td>\n",
       "      <td>16884.92400</td>\n",
       "    </tr>\n",
       "    <tr>\n",
       "      <th>1</th>\n",
       "      <td>18</td>\n",
       "      <td>male</td>\n",
       "      <td>33.770</td>\n",
       "      <td>1</td>\n",
       "      <td>no</td>\n",
       "      <td>southeast</td>\n",
       "      <td>1725.55230</td>\n",
       "    </tr>\n",
       "    <tr>\n",
       "      <th>2</th>\n",
       "      <td>28</td>\n",
       "      <td>male</td>\n",
       "      <td>33.000</td>\n",
       "      <td>3</td>\n",
       "      <td>no</td>\n",
       "      <td>southeast</td>\n",
       "      <td>4449.46200</td>\n",
       "    </tr>\n",
       "    <tr>\n",
       "      <th>3</th>\n",
       "      <td>33</td>\n",
       "      <td>male</td>\n",
       "      <td>22.705</td>\n",
       "      <td>0</td>\n",
       "      <td>no</td>\n",
       "      <td>northwest</td>\n",
       "      <td>21984.47061</td>\n",
       "    </tr>\n",
       "    <tr>\n",
       "      <th>4</th>\n",
       "      <td>32</td>\n",
       "      <td>male</td>\n",
       "      <td>28.880</td>\n",
       "      <td>0</td>\n",
       "      <td>no</td>\n",
       "      <td>northwest</td>\n",
       "      <td>3866.85520</td>\n",
       "    </tr>\n",
       "  </tbody>\n",
       "</table>\n",
       "</div>"
      ],
      "text/plain": [
       "   age     sex     bmi  children smoker     region      charges\n",
       "0   19  female  27.900         0    yes  southwest  16884.92400\n",
       "1   18    male  33.770         1     no  southeast   1725.55230\n",
       "2   28    male  33.000         3     no  southeast   4449.46200\n",
       "3   33    male  22.705         0     no  northwest  21984.47061\n",
       "4   32    male  28.880         0     no  northwest   3866.85520"
      ]
     },
     "execution_count": 8,
     "metadata": {},
     "output_type": "execute_result"
    }
   ],
   "source": [
    "#affichage du dataset\n",
    "df = pd.read_csv('insurance.csv')\n",
    "df.head()"
   ]
  },
  {
   "cell_type": "code",
   "execution_count": 9,
   "id": "219d1f27-d8af-40f5-805f-0a63331a57f1",
   "metadata": {},
   "outputs": [
    {
     "name": "stdout",
     "output_type": "stream",
     "text": [
      "<class 'pandas.core.frame.DataFrame'>\n",
      "RangeIndex: 1338 entries, 0 to 1337\n",
      "Data columns (total 7 columns):\n",
      " #   Column    Non-Null Count  Dtype  \n",
      "---  ------    --------------  -----  \n",
      " 0   age       1338 non-null   int64  \n",
      " 1   sex       1338 non-null   object \n",
      " 2   bmi       1338 non-null   float64\n",
      " 3   children  1338 non-null   int64  \n",
      " 4   smoker    1338 non-null   object \n",
      " 5   region    1338 non-null   object \n",
      " 6   charges   1338 non-null   float64\n",
      "dtypes: float64(2), int64(2), object(3)\n",
      "memory usage: 73.3+ KB\n"
     ]
    }
   ],
   "source": [
    "#fiche technique du dataset\n",
    "df.info()"
   ]
  },
  {
   "cell_type": "code",
   "execution_count": 10,
   "id": "7d74208a-e149-4d4a-ad64-e223d1efb5a7",
   "metadata": {},
   "outputs": [
    {
     "data": {
      "text/plain": [
       "age         0\n",
       "sex         0\n",
       "bmi         0\n",
       "children    0\n",
       "smoker      0\n",
       "region      0\n",
       "charges     0\n",
       "dtype: int64"
      ]
     },
     "execution_count": 10,
     "metadata": {},
     "output_type": "execute_result"
    }
   ],
   "source": [
    "#vérification de l'existence des valeurs manquantes\n",
    "df.isna().sum()"
   ]
  },
  {
   "cell_type": "code",
   "execution_count": 11,
   "id": "5baf87a3-5bcd-4b75-9c6f-e2c8eb004abf",
   "metadata": {},
   "outputs": [
    {
     "data": {
      "text/plain": [
       "1"
      ]
     },
     "execution_count": 11,
     "metadata": {},
     "output_type": "execute_result"
    }
   ],
   "source": [
    "df.duplicated().sum()"
   ]
  },
  {
   "cell_type": "code",
   "execution_count": 12,
   "id": "1b42bc70-0cde-452d-ad4d-50b8d3ca5397",
   "metadata": {},
   "outputs": [],
   "source": [
    "df.drop_duplicates(inplace = True)"
   ]
  },
  {
   "cell_type": "code",
   "execution_count": 13,
   "id": "3c6a11d5-eb25-475b-b9b7-aa9ab680aa67",
   "metadata": {},
   "outputs": [
    {
     "data": {
      "text/plain": [
       "0"
      ]
     },
     "execution_count": 13,
     "metadata": {},
     "output_type": "execute_result"
    }
   ],
   "source": [
    "df.duplicated().sum()"
   ]
  },
  {
   "cell_type": "code",
   "execution_count": 14,
   "id": "e40cc996-d5e9-4136-8644-e1db358d74f2",
   "metadata": {},
   "outputs": [],
   "source": [
    "# Mélanger les lignes pour garantir une répartition aléatoire des données\n",
    "df = df.sample(frac=1).reset_index(drop=True)"
   ]
  },
  {
   "cell_type": "markdown",
   "id": "847a5bc1-27d1-4942-b2da-d303a50cc7b6",
   "metadata": {},
   "source": [
    "# Calculer le nombre de lignes pour chaque partie en utilisant le pourcentage spécifié\n"
   ]
  },
  {
   "cell_type": "code",
   "execution_count": 15,
   "id": "d5a1af73-dd38-42c6-ae8f-090e085ea417",
   "metadata": {},
   "outputs": [
    {
     "data": {
      "text/plain": [
       "1337"
      ]
     },
     "execution_count": 15,
     "metadata": {},
     "output_type": "execute_result"
    }
   ],
   "source": [
    "total_rows = len(df)\n",
    "total_rows"
   ]
  },
  {
   "cell_type": "code",
   "execution_count": 16,
   "id": "0ae40a5a-3e62-42d8-8ac0-2fdb60f8b61f",
   "metadata": {},
   "outputs": [],
   "source": [
    "# Pourcentage de données à transférer vers chaque type de fichier\n",
    "db_json_rows_percentage = 30  \n",
    "db_rows = int(total_rows * (db_json_rows_percentage / 100))\n",
    "json_rows = db_rows\n",
    "csv_rows = total_rows - db_rows - json_rows"
   ]
  },
  {
   "cell_type": "code",
   "execution_count": 17,
   "id": "3bd8a330-ef8a-4aa4-8971-48cdb410c6f3",
   "metadata": {},
   "outputs": [
    {
     "data": {
      "text/plain": [
       "(401, 401, 535)"
      ]
     },
     "execution_count": 17,
     "metadata": {},
     "output_type": "execute_result"
    }
   ],
   "source": [
    "json_rows, db_rows, csv_rows"
   ]
  },
  {
   "cell_type": "markdown",
   "id": "2ec5bf09-b316-4f52-8355-e5abbb732c72",
   "metadata": {},
   "source": [
    "# Diviser les données en trois parties"
   ]
  },
  {
   "cell_type": "code",
   "execution_count": 18,
   "id": "a3120ad8-9f43-4314-a5da-c9987336545e",
   "metadata": {},
   "outputs": [],
   "source": [
    "json_data = df[:json_rows]\n",
    "db_data = df[json_rows:json_rows + db_rows]\n",
    "csv_data = df[json_rows + db_rows:]"
   ]
  },
  {
   "cell_type": "code",
   "execution_count": 19,
   "id": "61bec846-d803-4473-a730-8a0fa91ea9b0",
   "metadata": {},
   "outputs": [
    {
     "data": {
      "text/html": [
       "<div>\n",
       "<style scoped>\n",
       "    .dataframe tbody tr th:only-of-type {\n",
       "        vertical-align: middle;\n",
       "    }\n",
       "\n",
       "    .dataframe tbody tr th {\n",
       "        vertical-align: top;\n",
       "    }\n",
       "\n",
       "    .dataframe thead th {\n",
       "        text-align: right;\n",
       "    }\n",
       "</style>\n",
       "<table border=\"1\" class=\"dataframe\">\n",
       "  <thead>\n",
       "    <tr style=\"text-align: right;\">\n",
       "      <th></th>\n",
       "      <th>age</th>\n",
       "      <th>sex</th>\n",
       "      <th>bmi</th>\n",
       "      <th>children</th>\n",
       "      <th>smoker</th>\n",
       "      <th>region</th>\n",
       "      <th>charges</th>\n",
       "    </tr>\n",
       "  </thead>\n",
       "  <tbody>\n",
       "    <tr>\n",
       "      <th>0</th>\n",
       "      <td>33</td>\n",
       "      <td>male</td>\n",
       "      <td>42.460</td>\n",
       "      <td>1</td>\n",
       "      <td>no</td>\n",
       "      <td>southeast</td>\n",
       "      <td>11326.71487</td>\n",
       "    </tr>\n",
       "    <tr>\n",
       "      <th>1</th>\n",
       "      <td>44</td>\n",
       "      <td>male</td>\n",
       "      <td>34.320</td>\n",
       "      <td>1</td>\n",
       "      <td>no</td>\n",
       "      <td>southeast</td>\n",
       "      <td>7147.47280</td>\n",
       "    </tr>\n",
       "    <tr>\n",
       "      <th>2</th>\n",
       "      <td>42</td>\n",
       "      <td>male</td>\n",
       "      <td>26.125</td>\n",
       "      <td>2</td>\n",
       "      <td>no</td>\n",
       "      <td>northeast</td>\n",
       "      <td>7729.64575</td>\n",
       "    </tr>\n",
       "    <tr>\n",
       "      <th>3</th>\n",
       "      <td>58</td>\n",
       "      <td>male</td>\n",
       "      <td>34.390</td>\n",
       "      <td>0</td>\n",
       "      <td>no</td>\n",
       "      <td>northwest</td>\n",
       "      <td>11743.93410</td>\n",
       "    </tr>\n",
       "    <tr>\n",
       "      <th>4</th>\n",
       "      <td>24</td>\n",
       "      <td>female</td>\n",
       "      <td>20.520</td>\n",
       "      <td>0</td>\n",
       "      <td>yes</td>\n",
       "      <td>northeast</td>\n",
       "      <td>14571.89080</td>\n",
       "    </tr>\n",
       "    <tr>\n",
       "      <th>...</th>\n",
       "      <td>...</td>\n",
       "      <td>...</td>\n",
       "      <td>...</td>\n",
       "      <td>...</td>\n",
       "      <td>...</td>\n",
       "      <td>...</td>\n",
       "      <td>...</td>\n",
       "    </tr>\n",
       "    <tr>\n",
       "      <th>396</th>\n",
       "      <td>64</td>\n",
       "      <td>male</td>\n",
       "      <td>37.905</td>\n",
       "      <td>0</td>\n",
       "      <td>no</td>\n",
       "      <td>northwest</td>\n",
       "      <td>14210.53595</td>\n",
       "    </tr>\n",
       "    <tr>\n",
       "      <th>397</th>\n",
       "      <td>22</td>\n",
       "      <td>female</td>\n",
       "      <td>24.300</td>\n",
       "      <td>0</td>\n",
       "      <td>no</td>\n",
       "      <td>southwest</td>\n",
       "      <td>2150.46900</td>\n",
       "    </tr>\n",
       "    <tr>\n",
       "      <th>398</th>\n",
       "      <td>47</td>\n",
       "      <td>male</td>\n",
       "      <td>29.830</td>\n",
       "      <td>3</td>\n",
       "      <td>no</td>\n",
       "      <td>northwest</td>\n",
       "      <td>9620.33070</td>\n",
       "    </tr>\n",
       "    <tr>\n",
       "      <th>399</th>\n",
       "      <td>51</td>\n",
       "      <td>female</td>\n",
       "      <td>33.915</td>\n",
       "      <td>0</td>\n",
       "      <td>no</td>\n",
       "      <td>northeast</td>\n",
       "      <td>9866.30485</td>\n",
       "    </tr>\n",
       "    <tr>\n",
       "      <th>400</th>\n",
       "      <td>52</td>\n",
       "      <td>female</td>\n",
       "      <td>18.335</td>\n",
       "      <td>0</td>\n",
       "      <td>no</td>\n",
       "      <td>northwest</td>\n",
       "      <td>9991.03765</td>\n",
       "    </tr>\n",
       "  </tbody>\n",
       "</table>\n",
       "<p>401 rows × 7 columns</p>\n",
       "</div>"
      ],
      "text/plain": [
       "     age     sex     bmi  children smoker     region      charges\n",
       "0     33    male  42.460         1     no  southeast  11326.71487\n",
       "1     44    male  34.320         1     no  southeast   7147.47280\n",
       "2     42    male  26.125         2     no  northeast   7729.64575\n",
       "3     58    male  34.390         0     no  northwest  11743.93410\n",
       "4     24  female  20.520         0    yes  northeast  14571.89080\n",
       "..   ...     ...     ...       ...    ...        ...          ...\n",
       "396   64    male  37.905         0     no  northwest  14210.53595\n",
       "397   22  female  24.300         0     no  southwest   2150.46900\n",
       "398   47    male  29.830         3     no  northwest   9620.33070\n",
       "399   51  female  33.915         0     no  northeast   9866.30485\n",
       "400   52  female  18.335         0     no  northwest   9991.03765\n",
       "\n",
       "[401 rows x 7 columns]"
      ]
     },
     "execution_count": 19,
     "metadata": {},
     "output_type": "execute_result"
    }
   ],
   "source": [
    "json_data"
   ]
  },
  {
   "cell_type": "code",
   "execution_count": 20,
   "id": "257c5e4a-9fbe-4556-9914-42aebe5dd27f",
   "metadata": {},
   "outputs": [
    {
     "data": {
      "text/html": [
       "<div>\n",
       "<style scoped>\n",
       "    .dataframe tbody tr th:only-of-type {\n",
       "        vertical-align: middle;\n",
       "    }\n",
       "\n",
       "    .dataframe tbody tr th {\n",
       "        vertical-align: top;\n",
       "    }\n",
       "\n",
       "    .dataframe thead th {\n",
       "        text-align: right;\n",
       "    }\n",
       "</style>\n",
       "<table border=\"1\" class=\"dataframe\">\n",
       "  <thead>\n",
       "    <tr style=\"text-align: right;\">\n",
       "      <th></th>\n",
       "      <th>age</th>\n",
       "      <th>sex</th>\n",
       "      <th>bmi</th>\n",
       "      <th>children</th>\n",
       "      <th>smoker</th>\n",
       "      <th>region</th>\n",
       "      <th>charges</th>\n",
       "    </tr>\n",
       "  </thead>\n",
       "  <tbody>\n",
       "    <tr>\n",
       "      <th>401</th>\n",
       "      <td>25</td>\n",
       "      <td>male</td>\n",
       "      <td>29.700</td>\n",
       "      <td>3</td>\n",
       "      <td>yes</td>\n",
       "      <td>southwest</td>\n",
       "      <td>19933.45800</td>\n",
       "    </tr>\n",
       "    <tr>\n",
       "      <th>402</th>\n",
       "      <td>56</td>\n",
       "      <td>female</td>\n",
       "      <td>26.600</td>\n",
       "      <td>1</td>\n",
       "      <td>no</td>\n",
       "      <td>northwest</td>\n",
       "      <td>12044.34200</td>\n",
       "    </tr>\n",
       "    <tr>\n",
       "      <th>403</th>\n",
       "      <td>54</td>\n",
       "      <td>male</td>\n",
       "      <td>34.210</td>\n",
       "      <td>2</td>\n",
       "      <td>yes</td>\n",
       "      <td>southeast</td>\n",
       "      <td>44260.74990</td>\n",
       "    </tr>\n",
       "    <tr>\n",
       "      <th>404</th>\n",
       "      <td>35</td>\n",
       "      <td>female</td>\n",
       "      <td>35.815</td>\n",
       "      <td>1</td>\n",
       "      <td>no</td>\n",
       "      <td>northwest</td>\n",
       "      <td>5630.45785</td>\n",
       "    </tr>\n",
       "    <tr>\n",
       "      <th>405</th>\n",
       "      <td>56</td>\n",
       "      <td>male</td>\n",
       "      <td>36.100</td>\n",
       "      <td>3</td>\n",
       "      <td>no</td>\n",
       "      <td>southwest</td>\n",
       "      <td>12363.54700</td>\n",
       "    </tr>\n",
       "    <tr>\n",
       "      <th>...</th>\n",
       "      <td>...</td>\n",
       "      <td>...</td>\n",
       "      <td>...</td>\n",
       "      <td>...</td>\n",
       "      <td>...</td>\n",
       "      <td>...</td>\n",
       "      <td>...</td>\n",
       "    </tr>\n",
       "    <tr>\n",
       "      <th>797</th>\n",
       "      <td>21</td>\n",
       "      <td>male</td>\n",
       "      <td>25.700</td>\n",
       "      <td>4</td>\n",
       "      <td>yes</td>\n",
       "      <td>southwest</td>\n",
       "      <td>17942.10600</td>\n",
       "    </tr>\n",
       "    <tr>\n",
       "      <th>798</th>\n",
       "      <td>57</td>\n",
       "      <td>female</td>\n",
       "      <td>25.740</td>\n",
       "      <td>2</td>\n",
       "      <td>no</td>\n",
       "      <td>southeast</td>\n",
       "      <td>12629.16560</td>\n",
       "    </tr>\n",
       "    <tr>\n",
       "      <th>799</th>\n",
       "      <td>36</td>\n",
       "      <td>male</td>\n",
       "      <td>34.430</td>\n",
       "      <td>2</td>\n",
       "      <td>no</td>\n",
       "      <td>southeast</td>\n",
       "      <td>5584.30570</td>\n",
       "    </tr>\n",
       "    <tr>\n",
       "      <th>800</th>\n",
       "      <td>21</td>\n",
       "      <td>male</td>\n",
       "      <td>23.750</td>\n",
       "      <td>2</td>\n",
       "      <td>no</td>\n",
       "      <td>northwest</td>\n",
       "      <td>3077.09550</td>\n",
       "    </tr>\n",
       "    <tr>\n",
       "      <th>801</th>\n",
       "      <td>30</td>\n",
       "      <td>male</td>\n",
       "      <td>25.460</td>\n",
       "      <td>0</td>\n",
       "      <td>no</td>\n",
       "      <td>northeast</td>\n",
       "      <td>3645.08940</td>\n",
       "    </tr>\n",
       "  </tbody>\n",
       "</table>\n",
       "<p>401 rows × 7 columns</p>\n",
       "</div>"
      ],
      "text/plain": [
       "     age     sex     bmi  children smoker     region      charges\n",
       "401   25    male  29.700         3    yes  southwest  19933.45800\n",
       "402   56  female  26.600         1     no  northwest  12044.34200\n",
       "403   54    male  34.210         2    yes  southeast  44260.74990\n",
       "404   35  female  35.815         1     no  northwest   5630.45785\n",
       "405   56    male  36.100         3     no  southwest  12363.54700\n",
       "..   ...     ...     ...       ...    ...        ...          ...\n",
       "797   21    male  25.700         4    yes  southwest  17942.10600\n",
       "798   57  female  25.740         2     no  southeast  12629.16560\n",
       "799   36    male  34.430         2     no  southeast   5584.30570\n",
       "800   21    male  23.750         2     no  northwest   3077.09550\n",
       "801   30    male  25.460         0     no  northeast   3645.08940\n",
       "\n",
       "[401 rows x 7 columns]"
      ]
     },
     "execution_count": 20,
     "metadata": {},
     "output_type": "execute_result"
    }
   ],
   "source": [
    "db_data"
   ]
  },
  {
   "cell_type": "code",
   "execution_count": 21,
   "id": "9abfa034-37a5-4804-b2db-43378973bb69",
   "metadata": {},
   "outputs": [
    {
     "data": {
      "text/html": [
       "<div>\n",
       "<style scoped>\n",
       "    .dataframe tbody tr th:only-of-type {\n",
       "        vertical-align: middle;\n",
       "    }\n",
       "\n",
       "    .dataframe tbody tr th {\n",
       "        vertical-align: top;\n",
       "    }\n",
       "\n",
       "    .dataframe thead th {\n",
       "        text-align: right;\n",
       "    }\n",
       "</style>\n",
       "<table border=\"1\" class=\"dataframe\">\n",
       "  <thead>\n",
       "    <tr style=\"text-align: right;\">\n",
       "      <th></th>\n",
       "      <th>age</th>\n",
       "      <th>sex</th>\n",
       "      <th>bmi</th>\n",
       "      <th>children</th>\n",
       "      <th>smoker</th>\n",
       "      <th>region</th>\n",
       "      <th>charges</th>\n",
       "    </tr>\n",
       "  </thead>\n",
       "  <tbody>\n",
       "    <tr>\n",
       "      <th>802</th>\n",
       "      <td>43</td>\n",
       "      <td>male</td>\n",
       "      <td>38.060</td>\n",
       "      <td>2</td>\n",
       "      <td>yes</td>\n",
       "      <td>southeast</td>\n",
       "      <td>42560.43040</td>\n",
       "    </tr>\n",
       "    <tr>\n",
       "      <th>803</th>\n",
       "      <td>22</td>\n",
       "      <td>male</td>\n",
       "      <td>25.175</td>\n",
       "      <td>0</td>\n",
       "      <td>no</td>\n",
       "      <td>northwest</td>\n",
       "      <td>2045.68525</td>\n",
       "    </tr>\n",
       "    <tr>\n",
       "      <th>804</th>\n",
       "      <td>19</td>\n",
       "      <td>female</td>\n",
       "      <td>24.510</td>\n",
       "      <td>1</td>\n",
       "      <td>no</td>\n",
       "      <td>northwest</td>\n",
       "      <td>2709.11190</td>\n",
       "    </tr>\n",
       "    <tr>\n",
       "      <th>805</th>\n",
       "      <td>41</td>\n",
       "      <td>female</td>\n",
       "      <td>33.060</td>\n",
       "      <td>2</td>\n",
       "      <td>no</td>\n",
       "      <td>northwest</td>\n",
       "      <td>7749.15640</td>\n",
       "    </tr>\n",
       "    <tr>\n",
       "      <th>806</th>\n",
       "      <td>18</td>\n",
       "      <td>female</td>\n",
       "      <td>35.625</td>\n",
       "      <td>0</td>\n",
       "      <td>no</td>\n",
       "      <td>northeast</td>\n",
       "      <td>2211.13075</td>\n",
       "    </tr>\n",
       "    <tr>\n",
       "      <th>...</th>\n",
       "      <td>...</td>\n",
       "      <td>...</td>\n",
       "      <td>...</td>\n",
       "      <td>...</td>\n",
       "      <td>...</td>\n",
       "      <td>...</td>\n",
       "      <td>...</td>\n",
       "    </tr>\n",
       "    <tr>\n",
       "      <th>1332</th>\n",
       "      <td>19</td>\n",
       "      <td>male</td>\n",
       "      <td>26.030</td>\n",
       "      <td>1</td>\n",
       "      <td>yes</td>\n",
       "      <td>northwest</td>\n",
       "      <td>16450.89470</td>\n",
       "    </tr>\n",
       "    <tr>\n",
       "      <th>1333</th>\n",
       "      <td>41</td>\n",
       "      <td>female</td>\n",
       "      <td>37.100</td>\n",
       "      <td>2</td>\n",
       "      <td>no</td>\n",
       "      <td>southwest</td>\n",
       "      <td>7371.77200</td>\n",
       "    </tr>\n",
       "    <tr>\n",
       "      <th>1334</th>\n",
       "      <td>39</td>\n",
       "      <td>female</td>\n",
       "      <td>31.920</td>\n",
       "      <td>2</td>\n",
       "      <td>no</td>\n",
       "      <td>northwest</td>\n",
       "      <td>7209.49180</td>\n",
       "    </tr>\n",
       "    <tr>\n",
       "      <th>1335</th>\n",
       "      <td>27</td>\n",
       "      <td>male</td>\n",
       "      <td>32.670</td>\n",
       "      <td>0</td>\n",
       "      <td>no</td>\n",
       "      <td>southeast</td>\n",
       "      <td>2497.03830</td>\n",
       "    </tr>\n",
       "    <tr>\n",
       "      <th>1336</th>\n",
       "      <td>61</td>\n",
       "      <td>male</td>\n",
       "      <td>36.300</td>\n",
       "      <td>1</td>\n",
       "      <td>yes</td>\n",
       "      <td>southwest</td>\n",
       "      <td>47403.88000</td>\n",
       "    </tr>\n",
       "  </tbody>\n",
       "</table>\n",
       "<p>535 rows × 7 columns</p>\n",
       "</div>"
      ],
      "text/plain": [
       "      age     sex     bmi  children smoker     region      charges\n",
       "802    43    male  38.060         2    yes  southeast  42560.43040\n",
       "803    22    male  25.175         0     no  northwest   2045.68525\n",
       "804    19  female  24.510         1     no  northwest   2709.11190\n",
       "805    41  female  33.060         2     no  northwest   7749.15640\n",
       "806    18  female  35.625         0     no  northeast   2211.13075\n",
       "...   ...     ...     ...       ...    ...        ...          ...\n",
       "1332   19    male  26.030         1    yes  northwest  16450.89470\n",
       "1333   41  female  37.100         2     no  southwest   7371.77200\n",
       "1334   39  female  31.920         2     no  northwest   7209.49180\n",
       "1335   27    male  32.670         0     no  southeast   2497.03830\n",
       "1336   61    male  36.300         1    yes  southwest  47403.88000\n",
       "\n",
       "[535 rows x 7 columns]"
      ]
     },
     "execution_count": 21,
     "metadata": {},
     "output_type": "execute_result"
    }
   ],
   "source": [
    "csv_data"
   ]
  },
  {
   "cell_type": "markdown",
   "id": "6c27119d-1db9-4fa3-94cc-cbc95c5af52f",
   "metadata": {},
   "source": [
    "# Sauvegarder les données au format CSV (en excluant l'en-tête)"
   ]
  },
  {
   "cell_type": "code",
   "execution_count": 22,
   "id": "9e184bae-5f9d-4af5-ae2b-15df1ba782d9",
   "metadata": {},
   "outputs": [],
   "source": [
    "csv_data.to_csv('insurance_split_csv.csv', index=False)"
   ]
  },
  {
   "cell_type": "code",
   "execution_count": null,
   "id": "322be696-65e5-4dcb-8a94-5c8aecfb5ca7",
   "metadata": {},
   "outputs": [],
   "source": []
  },
  {
   "cell_type": "markdown",
   "id": "f471aca7-a83c-4100-af3e-ec88dec6bd2d",
   "metadata": {},
   "source": [
    "# Sauvegarder les données au format JSON\n"
   ]
  },
  {
   "cell_type": "code",
   "execution_count": 23,
   "id": "45e6d7c8-07e8-41de-a598-ddffc5350196",
   "metadata": {},
   "outputs": [],
   "source": [
    "json_data.to_json('insurance_split.json', orient='records', lines=True)"
   ]
  },
  {
   "cell_type": "code",
   "execution_count": 24,
   "id": "7bf1a0f7-7698-4a07-9756-27aa02d29ba3",
   "metadata": {},
   "outputs": [
    {
     "data": {
      "text/plain": [
       "[{'age': 33,\n",
       "  'sex': 'male',\n",
       "  'bmi': 42.46,\n",
       "  'children': 1,\n",
       "  'smoker': 'no',\n",
       "  'region': 'southeast',\n",
       "  'charges': 11326.71487},\n",
       " {'age': 44,\n",
       "  'sex': 'male',\n",
       "  'bmi': 34.32,\n",
       "  'children': 1,\n",
       "  'smoker': 'no',\n",
       "  'region': 'southeast',\n",
       "  'charges': 7147.4728},\n",
       " {'age': 42,\n",
       "  'sex': 'male',\n",
       "  'bmi': 26.125,\n",
       "  'children': 2,\n",
       "  'smoker': 'no',\n",
       "  'region': 'northeast',\n",
       "  'charges': 7729.64575},\n",
       " {'age': 58,\n",
       "  'sex': 'male',\n",
       "  'bmi': 34.39,\n",
       "  'children': 0,\n",
       "  'smoker': 'no',\n",
       "  'region': 'northwest',\n",
       "  'charges': 11743.9341},\n",
       " {'age': 24,\n",
       "  'sex': 'female',\n",
       "  'bmi': 20.52,\n",
       "  'children': 0,\n",
       "  'smoker': 'yes',\n",
       "  'region': 'northeast',\n",
       "  'charges': 14571.8908}]"
      ]
     },
     "execution_count": 24,
     "metadata": {},
     "output_type": "execute_result"
    }
   ],
   "source": [
    "json_data = []\n",
    "\n",
    "with open('insurance_split.json', \"r\") as json_file:\n",
    "    # Read the JSON data from the file\n",
    "    for line in json_file:\n",
    "        json_object = json.loads(line)\n",
    "        json_data.append(json_object)\n",
    "\n",
    "json_data[:5]"
   ]
  },
  {
   "cell_type": "markdown",
   "id": "85dd7437-c907-45eb-9dd0-a00a7a7b1ced",
   "metadata": {},
   "source": [
    "# Sauvegarder les données à une base de données relationnelle\n"
   ]
  },
  {
   "cell_type": "code",
   "execution_count": 25,
   "id": "a1f7fc03-675c-4e0d-998f-c30989065f28",
   "metadata": {},
   "outputs": [
    {
     "data": {
      "text/plain": [
       "Index(['age', 'sex', 'bmi', 'children', 'smoker', 'region', 'charges'], dtype='object')"
      ]
     },
     "execution_count": 25,
     "metadata": {},
     "output_type": "execute_result"
    }
   ],
   "source": [
    "df.columns"
   ]
  },
  {
   "cell_type": "code",
   "execution_count": 28,
   "id": "c26fb06b-1c3f-4766-904c-864233717ac2",
   "metadata": {},
   "outputs": [],
   "source": [
    "driver = 'SQL Server'\n",
    "server = 'LAPTOP-EEA5QPRQ\\SQLEXPRESS'\n",
    "database = 'DataSplitter'\n",
    "\n",
    "# Établir une connexion au serveur SQL Server sans base de données spécifique\n",
    "conn = pyodbc.connect(f'''\n",
    "                        DRIVER={driver};\n",
    "                        SERVER={server};\n",
    "                        DATABASE={database};\n",
    "                        Trusted_Connection=yes\n",
    "                       ''')\n",
    "# Créer un curseur pour exécuter les requêtes\n",
    "cursor = conn.cursor()"
   ]
  },
  {
   "cell_type": "code",
   "execution_count": 33,
   "id": "c75276da-fe64-4f2d-9650-b9c93fcd72d8",
   "metadata": {},
   "outputs": [
    {
     "name": "stdout",
     "output_type": "stream",
     "text": [
      "La table Insurance a été créée avec succès\n"
     ]
    }
   ],
   "source": [
    "#créer la table Insurance\n",
    "cursor.execute( \n",
    "    ''' \n",
    "      CREATE TABLE Insurance (\n",
    "        age INT,\n",
    "        sex VARCHAR(255),\n",
    "        bmi FLOAT,\n",
    "        children INT,\n",
    "        smoker VARCHAR(255),\n",
    "        region VARCHAR(255),\n",
    "        charges FLOAT\n",
    "        )\n",
    "    '''\n",
    "              )      \n",
    "print('La table Insurance a été créée avec succès')"
   ]
  },
  {
   "cell_type": "code",
   "execution_count": 38,
   "id": "18bbc844-97d5-4ea1-a1e2-afe5a894220f",
   "metadata": {},
   "outputs": [
    {
     "name": "stdout",
     "output_type": "stream",
     "text": [
      "La table Insurance a été insérée avec succès\n"
     ]
    }
   ],
   "source": [
    "# Parcourir chaque ligne de la dataframe \"db_data\"\n",
    "for index, row in db_data.iterrows():\n",
    "    age = row['age']\n",
    "    sex = row['sex']\n",
    "    bmi = row['bmi']\n",
    "    children = row['children']\n",
    "    smoker = row['smoker']\n",
    "    region = row['region']\n",
    "    charges = row['charges']\n",
    "    \n",
    "    # Exécuter une requête INSERT pour insérer les valeurs dans la table \"Insurance\"\n",
    "    #cursor.execute(f\"INSERT INTO Insurance (age, sex, bmi, children, smoker, region, charges) VALUES ({age}, {sex}, {bmi}, {children}, {smoker}, {region}, {charges})\")\n",
    "    cursor.execute(\"\"\"\n",
    "        INSERT INTO Insurance (age, sex, bmi, children, smoker, region, charges)\n",
    "        VALUES (?, ?, ?, ?, ?, ?,?)\n",
    "    \"\"\", age, sex, bmi, children, smoker, region, charges)\n",
    "print('La table Insurance a été insérée avec succès')"
   ]
  },
  {
   "cell_type": "code",
   "execution_count": 39,
   "id": "5a12b59a-2006-40ae-a448-61beb928f358",
   "metadata": {},
   "outputs": [],
   "source": [
    "# Validez les modifications et fermez la connexion\n",
    "conn.commit()\n",
    "conn.close()"
   ]
  },
  {
   "cell_type": "code",
   "execution_count": null,
   "id": "9b4aa7bb-40d3-4da5-8b83-d87fd5caa74a",
   "metadata": {},
   "outputs": [],
   "source": []
  }
 ],
 "metadata": {
  "kernelspec": {
   "display_name": "Python 3 (ipykernel)",
   "language": "python",
   "name": "python3"
  },
  "language_info": {
   "codemirror_mode": {
    "name": "ipython",
    "version": 3
   },
   "file_extension": ".py",
   "mimetype": "text/x-python",
   "name": "python",
   "nbconvert_exporter": "python",
   "pygments_lexer": "ipython3",
   "version": "3.8.0"
  }
 },
 "nbformat": 4,
 "nbformat_minor": 5
}
