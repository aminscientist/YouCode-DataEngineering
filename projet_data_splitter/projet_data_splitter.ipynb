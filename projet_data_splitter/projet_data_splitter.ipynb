{
 "cells": [
  {
   "cell_type": "code",
   "execution_count": 1,
   "id": "d1b989de-2bb7-4913-a8d5-c3912b65fb22",
   "metadata": {},
   "outputs": [],
   "source": [
    "#importation des bibliothèques nécessaires\n",
    "import pandas as pd\n",
    "import json\n",
    "import pyodbc"
   ]
  },
  {
   "cell_type": "code",
   "execution_count": 2,
   "id": "8bbeb54f-6c99-462b-a7db-4504a277d354",
   "metadata": {},
   "outputs": [
    {
     "data": {
      "text/html": [
       "<div>\n",
       "<style scoped>\n",
       "    .dataframe tbody tr th:only-of-type {\n",
       "        vertical-align: middle;\n",
       "    }\n",
       "\n",
       "    .dataframe tbody tr th {\n",
       "        vertical-align: top;\n",
       "    }\n",
       "\n",
       "    .dataframe thead th {\n",
       "        text-align: right;\n",
       "    }\n",
       "</style>\n",
       "<table border=\"1\" class=\"dataframe\">\n",
       "  <thead>\n",
       "    <tr style=\"text-align: right;\">\n",
       "      <th></th>\n",
       "      <th>age</th>\n",
       "      <th>sex</th>\n",
       "      <th>bmi</th>\n",
       "      <th>children</th>\n",
       "      <th>smoker</th>\n",
       "      <th>region</th>\n",
       "      <th>charges</th>\n",
       "    </tr>\n",
       "  </thead>\n",
       "  <tbody>\n",
       "    <tr>\n",
       "      <th>0</th>\n",
       "      <td>19</td>\n",
       "      <td>female</td>\n",
       "      <td>27.900</td>\n",
       "      <td>0</td>\n",
       "      <td>yes</td>\n",
       "      <td>southwest</td>\n",
       "      <td>16884.92400</td>\n",
       "    </tr>\n",
       "    <tr>\n",
       "      <th>1</th>\n",
       "      <td>18</td>\n",
       "      <td>male</td>\n",
       "      <td>33.770</td>\n",
       "      <td>1</td>\n",
       "      <td>no</td>\n",
       "      <td>southeast</td>\n",
       "      <td>1725.55230</td>\n",
       "    </tr>\n",
       "    <tr>\n",
       "      <th>2</th>\n",
       "      <td>28</td>\n",
       "      <td>male</td>\n",
       "      <td>33.000</td>\n",
       "      <td>3</td>\n",
       "      <td>no</td>\n",
       "      <td>southeast</td>\n",
       "      <td>4449.46200</td>\n",
       "    </tr>\n",
       "    <tr>\n",
       "      <th>3</th>\n",
       "      <td>33</td>\n",
       "      <td>male</td>\n",
       "      <td>22.705</td>\n",
       "      <td>0</td>\n",
       "      <td>no</td>\n",
       "      <td>northwest</td>\n",
       "      <td>21984.47061</td>\n",
       "    </tr>\n",
       "    <tr>\n",
       "      <th>4</th>\n",
       "      <td>32</td>\n",
       "      <td>male</td>\n",
       "      <td>28.880</td>\n",
       "      <td>0</td>\n",
       "      <td>no</td>\n",
       "      <td>northwest</td>\n",
       "      <td>3866.85520</td>\n",
       "    </tr>\n",
       "  </tbody>\n",
       "</table>\n",
       "</div>"
      ],
      "text/plain": [
       "   age     sex     bmi  children smoker     region      charges\n",
       "0   19  female  27.900         0    yes  southwest  16884.92400\n",
       "1   18    male  33.770         1     no  southeast   1725.55230\n",
       "2   28    male  33.000         3     no  southeast   4449.46200\n",
       "3   33    male  22.705         0     no  northwest  21984.47061\n",
       "4   32    male  28.880         0     no  northwest   3866.85520"
      ]
     },
     "execution_count": 2,
     "metadata": {},
     "output_type": "execute_result"
    }
   ],
   "source": [
    "#affichage du dataset\n",
    "df = pd.read_csv('insurance.csv')\n",
    "df.head()"
   ]
  },
  {
   "cell_type": "code",
   "execution_count": 3,
   "id": "219d1f27-d8af-40f5-805f-0a63331a57f1",
   "metadata": {},
   "outputs": [
    {
     "name": "stdout",
     "output_type": "stream",
     "text": [
      "<class 'pandas.core.frame.DataFrame'>\n",
      "RangeIndex: 1338 entries, 0 to 1337\n",
      "Data columns (total 7 columns):\n",
      " #   Column    Non-Null Count  Dtype  \n",
      "---  ------    --------------  -----  \n",
      " 0   age       1338 non-null   int64  \n",
      " 1   sex       1338 non-null   object \n",
      " 2   bmi       1338 non-null   float64\n",
      " 3   children  1338 non-null   int64  \n",
      " 4   smoker    1338 non-null   object \n",
      " 5   region    1338 non-null   object \n",
      " 6   charges   1338 non-null   float64\n",
      "dtypes: float64(2), int64(2), object(3)\n",
      "memory usage: 73.3+ KB\n"
     ]
    }
   ],
   "source": [
    "#fiche technique du dataset\n",
    "df.info()"
   ]
  },
  {
   "cell_type": "code",
   "execution_count": 4,
   "id": "7d74208a-e149-4d4a-ad64-e223d1efb5a7",
   "metadata": {},
   "outputs": [
    {
     "data": {
      "text/plain": [
       "age         0\n",
       "sex         0\n",
       "bmi         0\n",
       "children    0\n",
       "smoker      0\n",
       "region      0\n",
       "charges     0\n",
       "dtype: int64"
      ]
     },
     "execution_count": 4,
     "metadata": {},
     "output_type": "execute_result"
    }
   ],
   "source": [
    "#vérification de l'existence des valeurs manquantes\n",
    "df.isna().sum()"
   ]
  },
  {
   "cell_type": "code",
   "execution_count": 5,
   "id": "5baf87a3-5bcd-4b75-9c6f-e2c8eb004abf",
   "metadata": {},
   "outputs": [
    {
     "data": {
      "text/plain": [
       "1"
      ]
     },
     "execution_count": 5,
     "metadata": {},
     "output_type": "execute_result"
    }
   ],
   "source": [
    "df.duplicated().sum()"
   ]
  },
  {
   "cell_type": "code",
   "execution_count": 6,
   "id": "1b42bc70-0cde-452d-ad4d-50b8d3ca5397",
   "metadata": {},
   "outputs": [],
   "source": [
    "df.drop_duplicates(inplace = True)"
   ]
  },
  {
   "cell_type": "code",
   "execution_count": 7,
   "id": "3c6a11d5-eb25-475b-b9b7-aa9ab680aa67",
   "metadata": {},
   "outputs": [
    {
     "data": {
      "text/plain": [
       "0"
      ]
     },
     "execution_count": 7,
     "metadata": {},
     "output_type": "execute_result"
    }
   ],
   "source": [
    "df.duplicated().sum()"
   ]
  },
  {
   "cell_type": "code",
   "execution_count": 8,
   "id": "e40cc996-d5e9-4136-8644-e1db358d74f2",
   "metadata": {},
   "outputs": [
    {
     "data": {
      "text/html": [
       "<div>\n",
       "<style scoped>\n",
       "    .dataframe tbody tr th:only-of-type {\n",
       "        vertical-align: middle;\n",
       "    }\n",
       "\n",
       "    .dataframe tbody tr th {\n",
       "        vertical-align: top;\n",
       "    }\n",
       "\n",
       "    .dataframe thead th {\n",
       "        text-align: right;\n",
       "    }\n",
       "</style>\n",
       "<table border=\"1\" class=\"dataframe\">\n",
       "  <thead>\n",
       "    <tr style=\"text-align: right;\">\n",
       "      <th></th>\n",
       "      <th>age</th>\n",
       "      <th>sex</th>\n",
       "      <th>bmi</th>\n",
       "      <th>children</th>\n",
       "      <th>smoker</th>\n",
       "      <th>region</th>\n",
       "      <th>charges</th>\n",
       "    </tr>\n",
       "  </thead>\n",
       "  <tbody>\n",
       "    <tr>\n",
       "      <th>0</th>\n",
       "      <td>20</td>\n",
       "      <td>female</td>\n",
       "      <td>22.420</td>\n",
       "      <td>0</td>\n",
       "      <td>yes</td>\n",
       "      <td>northwest</td>\n",
       "      <td>14711.74380</td>\n",
       "    </tr>\n",
       "    <tr>\n",
       "      <th>1</th>\n",
       "      <td>38</td>\n",
       "      <td>male</td>\n",
       "      <td>31.000</td>\n",
       "      <td>1</td>\n",
       "      <td>no</td>\n",
       "      <td>southwest</td>\n",
       "      <td>5488.26200</td>\n",
       "    </tr>\n",
       "    <tr>\n",
       "      <th>2</th>\n",
       "      <td>18</td>\n",
       "      <td>male</td>\n",
       "      <td>21.780</td>\n",
       "      <td>2</td>\n",
       "      <td>no</td>\n",
       "      <td>southeast</td>\n",
       "      <td>11884.04858</td>\n",
       "    </tr>\n",
       "    <tr>\n",
       "      <th>3</th>\n",
       "      <td>57</td>\n",
       "      <td>female</td>\n",
       "      <td>31.825</td>\n",
       "      <td>0</td>\n",
       "      <td>no</td>\n",
       "      <td>northwest</td>\n",
       "      <td>11842.62375</td>\n",
       "    </tr>\n",
       "    <tr>\n",
       "      <th>4</th>\n",
       "      <td>32</td>\n",
       "      <td>female</td>\n",
       "      <td>17.765</td>\n",
       "      <td>2</td>\n",
       "      <td>yes</td>\n",
       "      <td>northwest</td>\n",
       "      <td>32734.18630</td>\n",
       "    </tr>\n",
       "  </tbody>\n",
       "</table>\n",
       "</div>"
      ],
      "text/plain": [
       "   age     sex     bmi  children smoker     region      charges\n",
       "0   20  female  22.420         0    yes  northwest  14711.74380\n",
       "1   38    male  31.000         1     no  southwest   5488.26200\n",
       "2   18    male  21.780         2     no  southeast  11884.04858\n",
       "3   57  female  31.825         0     no  northwest  11842.62375\n",
       "4   32  female  17.765         2    yes  northwest  32734.18630"
      ]
     },
     "execution_count": 8,
     "metadata": {},
     "output_type": "execute_result"
    }
   ],
   "source": [
    "# Mélanger les lignes pour garantir une répartition aléatoire des données\n",
    "df = df.sample(frac=1).reset_index(drop=True)\n",
    "df.head()"
   ]
  },
  {
   "cell_type": "markdown",
   "id": "847a5bc1-27d1-4942-b2da-d303a50cc7b6",
   "metadata": {},
   "source": [
    "# Calculer le nombre de lignes pour chaque partie en utilisant le pourcentage spécifié\n"
   ]
  },
  {
   "cell_type": "code",
   "execution_count": 9,
   "id": "74b190ad-68c5-4d09-b361-3146999ad1fe",
   "metadata": {},
   "outputs": [],
   "source": [
    "# json_percentage = int(input(\"Entrez le pourcentage du fichier JSON: \"))\n",
    "# db_percentage = int(input(\"Entrez le pourcentage du fichier Database: \"))\n",
    "# csv_percentage = int(input(\"Entrez le pourcentage du fichier CSV: \"))"
   ]
  },
  {
   "cell_type": "code",
   "execution_count": 10,
   "id": "15ea2176-88d7-430e-8b0b-4942fc98206e",
   "metadata": {},
   "outputs": [
    {
     "name": "stdin",
     "output_type": "stream",
     "text": [
      "Entrez le pourcentage du fichier JSON (Ex:25): % 25\n",
      "Entrez le pourcentage du fichier Database(Ex:35): % 35\n",
      "Entrez le pourcentage du fichier CSV(Ex:40): % 40\n"
     ]
    }
   ],
   "source": [
    "json_percentage = 0\n",
    "db_percentage = 0\n",
    "csv_percentage = 0\n",
    "\n",
    "# Boucle jusqu'à ce que la somme des pourcentages soit égale à 100\n",
    "while json_percentage + db_percentage + csv_percentage != 100:\n",
    "    json_percentage = int(input(\"Entrez le pourcentage du fichier JSON (Ex:25): %\"))\n",
    "    db_percentage = int(input(\"Entrez le pourcentage du fichier Database(Ex:35): %\"))\n",
    "    csv_percentage = int(input(\"Entrez le pourcentage du fichier CSV(Ex:40): %\"))\n",
    "\n",
    "    # Vérifiez si la somme n'est pas égale à 100\n",
    "    if json_percentage + db_percentage + csv_percentage != 100:\n",
    "        print(\"Erreur : La somme des pourcentages doit être égale à 100. Veuillez réessayer.\")"
   ]
  },
  {
   "cell_type": "code",
   "execution_count": 11,
   "id": "b895d385-1141-4431-82cb-833604aafcf4",
   "metadata": {},
   "outputs": [
    {
     "data": {
      "text/plain": [
       "1337"
      ]
     },
     "execution_count": 11,
     "metadata": {},
     "output_type": "execute_result"
    }
   ],
   "source": [
    "total_rows = len(df)\n",
    "total_rows"
   ]
  },
  {
   "cell_type": "code",
   "execution_count": 12,
   "id": "0ae40a5a-3e62-42d8-8ac0-2fdb60f8b61f",
   "metadata": {},
   "outputs": [],
   "source": [
    "# Pourcentage de données à transférer vers chaque type de fichier\n",
    "# db_json_rows_percentage = 30  \n",
    "# db_rows = int(total_rows * (db_json_rows_percentage / 100))\n",
    "# json_rows = db_rows\n",
    "# csv_rows = total_rows - db_rows - json_rows"
   ]
  },
  {
   "cell_type": "code",
   "execution_count": 13,
   "id": "c76f4e1e-962c-4652-aa08-d14788f1a0f0",
   "metadata": {},
   "outputs": [],
   "source": [
    "# Pourcentage de données à transférer vers chaque type de fichier\n",
    "json_rows = int(total_rows * json_percentage / 100)\n",
    "db_rows = int(total_rows * db_percentage / 100)\n",
    "csv_rows = total_rows - json_rows - db_rows"
   ]
  },
  {
   "cell_type": "code",
   "execution_count": 14,
   "id": "3bd8a330-ef8a-4aa4-8971-48cdb410c6f3",
   "metadata": {},
   "outputs": [
    {
     "data": {
      "text/plain": [
       "(334, 467, 536)"
      ]
     },
     "execution_count": 14,
     "metadata": {},
     "output_type": "execute_result"
    }
   ],
   "source": [
    "json_rows, db_rows, csv_rows"
   ]
  },
  {
   "cell_type": "markdown",
   "id": "2ec5bf09-b316-4f52-8355-e5abbb732c72",
   "metadata": {},
   "source": [
    "# Diviser les données en trois parties"
   ]
  },
  {
   "cell_type": "code",
   "execution_count": 15,
   "id": "a3120ad8-9f43-4314-a5da-c9987336545e",
   "metadata": {},
   "outputs": [],
   "source": [
    "json_data = df[:json_rows]\n",
    "db_data = df[json_rows:json_rows + db_rows]\n",
    "csv_data = df[json_rows + db_rows:]"
   ]
  },
  {
   "cell_type": "code",
   "execution_count": 16,
   "id": "61bec846-d803-4473-a730-8a0fa91ea9b0",
   "metadata": {},
   "outputs": [
    {
     "data": {
      "text/html": [
       "<div>\n",
       "<style scoped>\n",
       "    .dataframe tbody tr th:only-of-type {\n",
       "        vertical-align: middle;\n",
       "    }\n",
       "\n",
       "    .dataframe tbody tr th {\n",
       "        vertical-align: top;\n",
       "    }\n",
       "\n",
       "    .dataframe thead th {\n",
       "        text-align: right;\n",
       "    }\n",
       "</style>\n",
       "<table border=\"1\" class=\"dataframe\">\n",
       "  <thead>\n",
       "    <tr style=\"text-align: right;\">\n",
       "      <th></th>\n",
       "      <th>age</th>\n",
       "      <th>sex</th>\n",
       "      <th>bmi</th>\n",
       "      <th>children</th>\n",
       "      <th>smoker</th>\n",
       "      <th>region</th>\n",
       "      <th>charges</th>\n",
       "    </tr>\n",
       "  </thead>\n",
       "  <tbody>\n",
       "    <tr>\n",
       "      <th>0</th>\n",
       "      <td>20</td>\n",
       "      <td>female</td>\n",
       "      <td>22.420</td>\n",
       "      <td>0</td>\n",
       "      <td>yes</td>\n",
       "      <td>northwest</td>\n",
       "      <td>14711.74380</td>\n",
       "    </tr>\n",
       "    <tr>\n",
       "      <th>1</th>\n",
       "      <td>38</td>\n",
       "      <td>male</td>\n",
       "      <td>31.000</td>\n",
       "      <td>1</td>\n",
       "      <td>no</td>\n",
       "      <td>southwest</td>\n",
       "      <td>5488.26200</td>\n",
       "    </tr>\n",
       "    <tr>\n",
       "      <th>2</th>\n",
       "      <td>18</td>\n",
       "      <td>male</td>\n",
       "      <td>21.780</td>\n",
       "      <td>2</td>\n",
       "      <td>no</td>\n",
       "      <td>southeast</td>\n",
       "      <td>11884.04858</td>\n",
       "    </tr>\n",
       "    <tr>\n",
       "      <th>3</th>\n",
       "      <td>57</td>\n",
       "      <td>female</td>\n",
       "      <td>31.825</td>\n",
       "      <td>0</td>\n",
       "      <td>no</td>\n",
       "      <td>northwest</td>\n",
       "      <td>11842.62375</td>\n",
       "    </tr>\n",
       "    <tr>\n",
       "      <th>4</th>\n",
       "      <td>32</td>\n",
       "      <td>female</td>\n",
       "      <td>17.765</td>\n",
       "      <td>2</td>\n",
       "      <td>yes</td>\n",
       "      <td>northwest</td>\n",
       "      <td>32734.18630</td>\n",
       "    </tr>\n",
       "    <tr>\n",
       "      <th>...</th>\n",
       "      <td>...</td>\n",
       "      <td>...</td>\n",
       "      <td>...</td>\n",
       "      <td>...</td>\n",
       "      <td>...</td>\n",
       "      <td>...</td>\n",
       "      <td>...</td>\n",
       "    </tr>\n",
       "    <tr>\n",
       "      <th>329</th>\n",
       "      <td>26</td>\n",
       "      <td>female</td>\n",
       "      <td>29.920</td>\n",
       "      <td>2</td>\n",
       "      <td>no</td>\n",
       "      <td>southeast</td>\n",
       "      <td>3981.97680</td>\n",
       "    </tr>\n",
       "    <tr>\n",
       "      <th>330</th>\n",
       "      <td>48</td>\n",
       "      <td>female</td>\n",
       "      <td>32.230</td>\n",
       "      <td>1</td>\n",
       "      <td>no</td>\n",
       "      <td>southeast</td>\n",
       "      <td>8871.15170</td>\n",
       "    </tr>\n",
       "    <tr>\n",
       "      <th>331</th>\n",
       "      <td>19</td>\n",
       "      <td>male</td>\n",
       "      <td>34.800</td>\n",
       "      <td>0</td>\n",
       "      <td>yes</td>\n",
       "      <td>southwest</td>\n",
       "      <td>34779.61500</td>\n",
       "    </tr>\n",
       "    <tr>\n",
       "      <th>332</th>\n",
       "      <td>35</td>\n",
       "      <td>male</td>\n",
       "      <td>27.740</td>\n",
       "      <td>2</td>\n",
       "      <td>yes</td>\n",
       "      <td>northeast</td>\n",
       "      <td>20984.09360</td>\n",
       "    </tr>\n",
       "    <tr>\n",
       "      <th>333</th>\n",
       "      <td>37</td>\n",
       "      <td>male</td>\n",
       "      <td>30.875</td>\n",
       "      <td>3</td>\n",
       "      <td>no</td>\n",
       "      <td>northwest</td>\n",
       "      <td>6796.86325</td>\n",
       "    </tr>\n",
       "  </tbody>\n",
       "</table>\n",
       "<p>334 rows × 7 columns</p>\n",
       "</div>"
      ],
      "text/plain": [
       "     age     sex     bmi  children smoker     region      charges\n",
       "0     20  female  22.420         0    yes  northwest  14711.74380\n",
       "1     38    male  31.000         1     no  southwest   5488.26200\n",
       "2     18    male  21.780         2     no  southeast  11884.04858\n",
       "3     57  female  31.825         0     no  northwest  11842.62375\n",
       "4     32  female  17.765         2    yes  northwest  32734.18630\n",
       "..   ...     ...     ...       ...    ...        ...          ...\n",
       "329   26  female  29.920         2     no  southeast   3981.97680\n",
       "330   48  female  32.230         1     no  southeast   8871.15170\n",
       "331   19    male  34.800         0    yes  southwest  34779.61500\n",
       "332   35    male  27.740         2    yes  northeast  20984.09360\n",
       "333   37    male  30.875         3     no  northwest   6796.86325\n",
       "\n",
       "[334 rows x 7 columns]"
      ]
     },
     "execution_count": 16,
     "metadata": {},
     "output_type": "execute_result"
    }
   ],
   "source": [
    "json_data"
   ]
  },
  {
   "cell_type": "code",
   "execution_count": 17,
   "id": "257c5e4a-9fbe-4556-9914-42aebe5dd27f",
   "metadata": {},
   "outputs": [
    {
     "data": {
      "text/html": [
       "<div>\n",
       "<style scoped>\n",
       "    .dataframe tbody tr th:only-of-type {\n",
       "        vertical-align: middle;\n",
       "    }\n",
       "\n",
       "    .dataframe tbody tr th {\n",
       "        vertical-align: top;\n",
       "    }\n",
       "\n",
       "    .dataframe thead th {\n",
       "        text-align: right;\n",
       "    }\n",
       "</style>\n",
       "<table border=\"1\" class=\"dataframe\">\n",
       "  <thead>\n",
       "    <tr style=\"text-align: right;\">\n",
       "      <th></th>\n",
       "      <th>age</th>\n",
       "      <th>sex</th>\n",
       "      <th>bmi</th>\n",
       "      <th>children</th>\n",
       "      <th>smoker</th>\n",
       "      <th>region</th>\n",
       "      <th>charges</th>\n",
       "    </tr>\n",
       "  </thead>\n",
       "  <tbody>\n",
       "    <tr>\n",
       "      <th>334</th>\n",
       "      <td>30</td>\n",
       "      <td>female</td>\n",
       "      <td>32.40</td>\n",
       "      <td>1</td>\n",
       "      <td>no</td>\n",
       "      <td>southwest</td>\n",
       "      <td>4149.73600</td>\n",
       "    </tr>\n",
       "    <tr>\n",
       "      <th>335</th>\n",
       "      <td>19</td>\n",
       "      <td>female</td>\n",
       "      <td>34.70</td>\n",
       "      <td>2</td>\n",
       "      <td>yes</td>\n",
       "      <td>southwest</td>\n",
       "      <td>36397.57600</td>\n",
       "    </tr>\n",
       "    <tr>\n",
       "      <th>336</th>\n",
       "      <td>21</td>\n",
       "      <td>male</td>\n",
       "      <td>23.75</td>\n",
       "      <td>2</td>\n",
       "      <td>no</td>\n",
       "      <td>northwest</td>\n",
       "      <td>3077.09550</td>\n",
       "    </tr>\n",
       "    <tr>\n",
       "      <th>337</th>\n",
       "      <td>59</td>\n",
       "      <td>male</td>\n",
       "      <td>25.46</td>\n",
       "      <td>0</td>\n",
       "      <td>no</td>\n",
       "      <td>northwest</td>\n",
       "      <td>12124.99240</td>\n",
       "    </tr>\n",
       "    <tr>\n",
       "      <th>338</th>\n",
       "      <td>27</td>\n",
       "      <td>female</td>\n",
       "      <td>30.59</td>\n",
       "      <td>1</td>\n",
       "      <td>no</td>\n",
       "      <td>northeast</td>\n",
       "      <td>16796.41194</td>\n",
       "    </tr>\n",
       "    <tr>\n",
       "      <th>...</th>\n",
       "      <td>...</td>\n",
       "      <td>...</td>\n",
       "      <td>...</td>\n",
       "      <td>...</td>\n",
       "      <td>...</td>\n",
       "      <td>...</td>\n",
       "      <td>...</td>\n",
       "    </tr>\n",
       "    <tr>\n",
       "      <th>796</th>\n",
       "      <td>32</td>\n",
       "      <td>female</td>\n",
       "      <td>23.65</td>\n",
       "      <td>1</td>\n",
       "      <td>no</td>\n",
       "      <td>southeast</td>\n",
       "      <td>17626.23951</td>\n",
       "    </tr>\n",
       "    <tr>\n",
       "      <th>797</th>\n",
       "      <td>56</td>\n",
       "      <td>male</td>\n",
       "      <td>22.10</td>\n",
       "      <td>0</td>\n",
       "      <td>no</td>\n",
       "      <td>southwest</td>\n",
       "      <td>10577.08700</td>\n",
       "    </tr>\n",
       "    <tr>\n",
       "      <th>798</th>\n",
       "      <td>21</td>\n",
       "      <td>female</td>\n",
       "      <td>39.49</td>\n",
       "      <td>0</td>\n",
       "      <td>no</td>\n",
       "      <td>southeast</td>\n",
       "      <td>2026.97410</td>\n",
       "    </tr>\n",
       "    <tr>\n",
       "      <th>799</th>\n",
       "      <td>33</td>\n",
       "      <td>female</td>\n",
       "      <td>18.50</td>\n",
       "      <td>1</td>\n",
       "      <td>no</td>\n",
       "      <td>southwest</td>\n",
       "      <td>4766.02200</td>\n",
       "    </tr>\n",
       "    <tr>\n",
       "      <th>800</th>\n",
       "      <td>49</td>\n",
       "      <td>female</td>\n",
       "      <td>27.17</td>\n",
       "      <td>0</td>\n",
       "      <td>no</td>\n",
       "      <td>southeast</td>\n",
       "      <td>8601.32930</td>\n",
       "    </tr>\n",
       "  </tbody>\n",
       "</table>\n",
       "<p>467 rows × 7 columns</p>\n",
       "</div>"
      ],
      "text/plain": [
       "     age     sex    bmi  children smoker     region      charges\n",
       "334   30  female  32.40         1     no  southwest   4149.73600\n",
       "335   19  female  34.70         2    yes  southwest  36397.57600\n",
       "336   21    male  23.75         2     no  northwest   3077.09550\n",
       "337   59    male  25.46         0     no  northwest  12124.99240\n",
       "338   27  female  30.59         1     no  northeast  16796.41194\n",
       "..   ...     ...    ...       ...    ...        ...          ...\n",
       "796   32  female  23.65         1     no  southeast  17626.23951\n",
       "797   56    male  22.10         0     no  southwest  10577.08700\n",
       "798   21  female  39.49         0     no  southeast   2026.97410\n",
       "799   33  female  18.50         1     no  southwest   4766.02200\n",
       "800   49  female  27.17         0     no  southeast   8601.32930\n",
       "\n",
       "[467 rows x 7 columns]"
      ]
     },
     "execution_count": 17,
     "metadata": {},
     "output_type": "execute_result"
    }
   ],
   "source": [
    "db_data"
   ]
  },
  {
   "cell_type": "code",
   "execution_count": 18,
   "id": "9abfa034-37a5-4804-b2db-43378973bb69",
   "metadata": {},
   "outputs": [
    {
     "data": {
      "text/html": [
       "<div>\n",
       "<style scoped>\n",
       "    .dataframe tbody tr th:only-of-type {\n",
       "        vertical-align: middle;\n",
       "    }\n",
       "\n",
       "    .dataframe tbody tr th {\n",
       "        vertical-align: top;\n",
       "    }\n",
       "\n",
       "    .dataframe thead th {\n",
       "        text-align: right;\n",
       "    }\n",
       "</style>\n",
       "<table border=\"1\" class=\"dataframe\">\n",
       "  <thead>\n",
       "    <tr style=\"text-align: right;\">\n",
       "      <th></th>\n",
       "      <th>age</th>\n",
       "      <th>sex</th>\n",
       "      <th>bmi</th>\n",
       "      <th>children</th>\n",
       "      <th>smoker</th>\n",
       "      <th>region</th>\n",
       "      <th>charges</th>\n",
       "    </tr>\n",
       "  </thead>\n",
       "  <tbody>\n",
       "    <tr>\n",
       "      <th>801</th>\n",
       "      <td>52</td>\n",
       "      <td>male</td>\n",
       "      <td>24.320</td>\n",
       "      <td>3</td>\n",
       "      <td>yes</td>\n",
       "      <td>northeast</td>\n",
       "      <td>24869.83680</td>\n",
       "    </tr>\n",
       "    <tr>\n",
       "      <th>802</th>\n",
       "      <td>18</td>\n",
       "      <td>male</td>\n",
       "      <td>28.310</td>\n",
       "      <td>1</td>\n",
       "      <td>no</td>\n",
       "      <td>northeast</td>\n",
       "      <td>11272.33139</td>\n",
       "    </tr>\n",
       "    <tr>\n",
       "      <th>803</th>\n",
       "      <td>32</td>\n",
       "      <td>female</td>\n",
       "      <td>29.735</td>\n",
       "      <td>0</td>\n",
       "      <td>no</td>\n",
       "      <td>northwest</td>\n",
       "      <td>4357.04365</td>\n",
       "    </tr>\n",
       "    <tr>\n",
       "      <th>804</th>\n",
       "      <td>31</td>\n",
       "      <td>male</td>\n",
       "      <td>29.810</td>\n",
       "      <td>0</td>\n",
       "      <td>yes</td>\n",
       "      <td>southeast</td>\n",
       "      <td>19350.36890</td>\n",
       "    </tr>\n",
       "    <tr>\n",
       "      <th>805</th>\n",
       "      <td>18</td>\n",
       "      <td>male</td>\n",
       "      <td>31.680</td>\n",
       "      <td>2</td>\n",
       "      <td>yes</td>\n",
       "      <td>southeast</td>\n",
       "      <td>34303.16720</td>\n",
       "    </tr>\n",
       "    <tr>\n",
       "      <th>...</th>\n",
       "      <td>...</td>\n",
       "      <td>...</td>\n",
       "      <td>...</td>\n",
       "      <td>...</td>\n",
       "      <td>...</td>\n",
       "      <td>...</td>\n",
       "      <td>...</td>\n",
       "    </tr>\n",
       "    <tr>\n",
       "      <th>1332</th>\n",
       "      <td>31</td>\n",
       "      <td>female</td>\n",
       "      <td>32.680</td>\n",
       "      <td>1</td>\n",
       "      <td>no</td>\n",
       "      <td>northwest</td>\n",
       "      <td>4738.26820</td>\n",
       "    </tr>\n",
       "    <tr>\n",
       "      <th>1333</th>\n",
       "      <td>52</td>\n",
       "      <td>female</td>\n",
       "      <td>37.400</td>\n",
       "      <td>0</td>\n",
       "      <td>no</td>\n",
       "      <td>southwest</td>\n",
       "      <td>9634.53800</td>\n",
       "    </tr>\n",
       "    <tr>\n",
       "      <th>1334</th>\n",
       "      <td>31</td>\n",
       "      <td>female</td>\n",
       "      <td>25.740</td>\n",
       "      <td>0</td>\n",
       "      <td>no</td>\n",
       "      <td>southeast</td>\n",
       "      <td>3756.62160</td>\n",
       "    </tr>\n",
       "    <tr>\n",
       "      <th>1335</th>\n",
       "      <td>59</td>\n",
       "      <td>female</td>\n",
       "      <td>34.800</td>\n",
       "      <td>2</td>\n",
       "      <td>no</td>\n",
       "      <td>southwest</td>\n",
       "      <td>36910.60803</td>\n",
       "    </tr>\n",
       "    <tr>\n",
       "      <th>1336</th>\n",
       "      <td>55</td>\n",
       "      <td>female</td>\n",
       "      <td>40.810</td>\n",
       "      <td>3</td>\n",
       "      <td>no</td>\n",
       "      <td>southeast</td>\n",
       "      <td>12485.80090</td>\n",
       "    </tr>\n",
       "  </tbody>\n",
       "</table>\n",
       "<p>536 rows × 7 columns</p>\n",
       "</div>"
      ],
      "text/plain": [
       "      age     sex     bmi  children smoker     region      charges\n",
       "801    52    male  24.320         3    yes  northeast  24869.83680\n",
       "802    18    male  28.310         1     no  northeast  11272.33139\n",
       "803    32  female  29.735         0     no  northwest   4357.04365\n",
       "804    31    male  29.810         0    yes  southeast  19350.36890\n",
       "805    18    male  31.680         2    yes  southeast  34303.16720\n",
       "...   ...     ...     ...       ...    ...        ...          ...\n",
       "1332   31  female  32.680         1     no  northwest   4738.26820\n",
       "1333   52  female  37.400         0     no  southwest   9634.53800\n",
       "1334   31  female  25.740         0     no  southeast   3756.62160\n",
       "1335   59  female  34.800         2     no  southwest  36910.60803\n",
       "1336   55  female  40.810         3     no  southeast  12485.80090\n",
       "\n",
       "[536 rows x 7 columns]"
      ]
     },
     "execution_count": 18,
     "metadata": {},
     "output_type": "execute_result"
    }
   ],
   "source": [
    "csv_data"
   ]
  },
  {
   "cell_type": "markdown",
   "id": "6c27119d-1db9-4fa3-94cc-cbc95c5af52f",
   "metadata": {},
   "source": [
    "# Sauvegarder les données au format CSV (en excluant l'en-tête)"
   ]
  },
  {
   "cell_type": "code",
   "execution_count": 19,
   "id": "9e184bae-5f9d-4af5-ae2b-15df1ba782d9",
   "metadata": {},
   "outputs": [],
   "source": [
    "csv_data.to_csv('insurance_split_csv.csv', index=False)"
   ]
  },
  {
   "cell_type": "markdown",
   "id": "f471aca7-a83c-4100-af3e-ec88dec6bd2d",
   "metadata": {},
   "source": [
    "# Sauvegarder les données au format JSON\n"
   ]
  },
  {
   "cell_type": "code",
   "execution_count": 20,
   "id": "45e6d7c8-07e8-41de-a598-ddffc5350196",
   "metadata": {},
   "outputs": [],
   "source": [
    "json_data.to_json('insurance_split_json.json', orient='records', lines=True)"
   ]
  },
  {
   "cell_type": "code",
   "execution_count": 21,
   "id": "7bf1a0f7-7698-4a07-9756-27aa02d29ba3",
   "metadata": {},
   "outputs": [
    {
     "data": {
      "text/plain": [
       "[{'age': 33,\n",
       "  'sex': 'male',\n",
       "  'bmi': 42.46,\n",
       "  'children': 1,\n",
       "  'smoker': 'no',\n",
       "  'region': 'southeast',\n",
       "  'charges': 11326.71487},\n",
       " {'age': 44,\n",
       "  'sex': 'male',\n",
       "  'bmi': 34.32,\n",
       "  'children': 1,\n",
       "  'smoker': 'no',\n",
       "  'region': 'southeast',\n",
       "  'charges': 7147.4728},\n",
       " {'age': 42,\n",
       "  'sex': 'male',\n",
       "  'bmi': 26.125,\n",
       "  'children': 2,\n",
       "  'smoker': 'no',\n",
       "  'region': 'northeast',\n",
       "  'charges': 7729.64575},\n",
       " {'age': 58,\n",
       "  'sex': 'male',\n",
       "  'bmi': 34.39,\n",
       "  'children': 0,\n",
       "  'smoker': 'no',\n",
       "  'region': 'northwest',\n",
       "  'charges': 11743.9341},\n",
       " {'age': 24,\n",
       "  'sex': 'female',\n",
       "  'bmi': 20.52,\n",
       "  'children': 0,\n",
       "  'smoker': 'yes',\n",
       "  'region': 'northeast',\n",
       "  'charges': 14571.8908}]"
      ]
     },
     "execution_count": 21,
     "metadata": {},
     "output_type": "execute_result"
    }
   ],
   "source": [
    "json_data = []\n",
    "\n",
    "with open('insurance_split.json', \"r\") as json_file:\n",
    "    # Read the JSON data from the file\n",
    "    for line in json_file:\n",
    "        json_object = json.loads(line)\n",
    "        json_data.append(json_object)\n",
    "\n",
    "json_data[:5]"
   ]
  },
  {
   "cell_type": "markdown",
   "id": "85dd7437-c907-45eb-9dd0-a00a7a7b1ced",
   "metadata": {},
   "source": [
    "# Sauvegarder les données à une base de données relationnelle\n"
   ]
  },
  {
   "cell_type": "code",
   "execution_count": 22,
   "id": "a1f7fc03-675c-4e0d-998f-c30989065f28",
   "metadata": {},
   "outputs": [
    {
     "data": {
      "text/plain": [
       "Index(['age', 'sex', 'bmi', 'children', 'smoker', 'region', 'charges'], dtype='object')"
      ]
     },
     "execution_count": 22,
     "metadata": {},
     "output_type": "execute_result"
    }
   ],
   "source": [
    "df.columns"
   ]
  },
  {
   "cell_type": "code",
   "execution_count": 23,
   "id": "c26fb06b-1c3f-4766-904c-864233717ac2",
   "metadata": {},
   "outputs": [],
   "source": [
    "driver = 'SQL Server'\n",
    "server = 'LAPTOP-EEA5QPRQ\\SQLEXPRESS'\n",
    "database = 'DataSplitter'\n",
    "\n",
    "# Établir une connexion au serveur SQL Server sans base de données spécifique\n",
    "conn = pyodbc.connect(f'''\n",
    "                        DRIVER={driver};\n",
    "                        SERVER={server};\n",
    "                        DATABASE={database};\n",
    "                        Trusted_Connection=yes\n",
    "                       ''')\n",
    "# Créer un curseur pour exécuter les requêtes\n",
    "cursor = conn.cursor()"
   ]
  },
  {
   "cell_type": "code",
   "execution_count": 25,
   "id": "c75276da-fe64-4f2d-9650-b9c93fcd72d8",
   "metadata": {},
   "outputs": [
    {
     "name": "stdout",
     "output_type": "stream",
     "text": [
      "La table Insurance a été créée avec succès\n"
     ]
    }
   ],
   "source": [
    "# supprimer de la table Insurance si il existe déjà\n",
    "cursor.execute('DROP TABLE IF EXISTS Insurance')\n",
    "\n",
    "#créer la table Insurance\n",
    "cursor.execute( \n",
    "    ''' \n",
    "      CREATE TABLE Insurance (\n",
    "        age INT,\n",
    "        sex VARCHAR(255),\n",
    "        bmi FLOAT,\n",
    "        children INT,\n",
    "        smoker VARCHAR(255),\n",
    "        region VARCHAR(255),\n",
    "        charges FLOAT\n",
    "        )\n",
    "    '''\n",
    "              )      \n",
    "print('La table Insurance a été créée avec succès')"
   ]
  },
  {
   "cell_type": "code",
   "execution_count": 26,
   "id": "18bbc844-97d5-4ea1-a1e2-afe5a894220f",
   "metadata": {},
   "outputs": [
    {
     "name": "stdout",
     "output_type": "stream",
     "text": [
      "La table Insurance a été insérée avec succès\n"
     ]
    }
   ],
   "source": [
    "# Parcourir chaque ligne de la dataframe \"db_data\"\n",
    "for index, row in db_data.iterrows():\n",
    "    age = row['age']\n",
    "    sex = row['sex']\n",
    "    bmi = row['bmi']\n",
    "    children = row['children']\n",
    "    smoker = row['smoker']\n",
    "    region = row['region']\n",
    "    charges = row['charges']\n",
    "    \n",
    "    # Exécuter une requête INSERT pour insérer les valeurs dans la table \"Insurance\"\n",
    "    #cursor.execute(f\"INSERT INTO Insurance (age, sex, bmi, children, smoker, region, charges) VALUES ({age}, {sex}, {bmi}, {children}, {smoker}, {region}, {charges})\")\n",
    "    cursor.execute(\"\"\"\n",
    "        INSERT INTO Insurance (age, sex, bmi, children, smoker, region, charges)\n",
    "        VALUES (?, ?, ?, ?, ?, ?,?)\n",
    "    \"\"\", age, sex, bmi, children, smoker, region, charges)\n",
    "print('La table Insurance a été insérée avec succès')"
   ]
  },
  {
   "cell_type": "code",
   "execution_count": 27,
   "id": "5a12b59a-2006-40ae-a448-61beb928f358",
   "metadata": {},
   "outputs": [],
   "source": [
    "# Validez les modifications et fermez la connexion\n",
    "conn.commit()\n",
    "conn.close()"
   ]
  },
  {
   "cell_type": "code",
   "execution_count": null,
   "id": "9b4aa7bb-40d3-4da5-8b83-d87fd5caa74a",
   "metadata": {},
   "outputs": [],
   "source": []
  }
 ],
 "metadata": {
  "kernelspec": {
   "display_name": "Python 3 (ipykernel)",
   "language": "python",
   "name": "python3"
  },
  "language_info": {
   "codemirror_mode": {
    "name": "ipython",
    "version": 3
   },
   "file_extension": ".py",
   "mimetype": "text/x-python",
   "name": "python",
   "nbconvert_exporter": "python",
   "pygments_lexer": "ipython3",
   "version": "3.8.0"
  }
 },
 "nbformat": 4,
 "nbformat_minor": 5
}
